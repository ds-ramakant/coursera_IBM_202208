{
 "cells": [
  {
   "cell_type": "markdown",
   "metadata": {},
   "source": [
    "# My Jupyter Notebook on IBM Watson Studio"
   ]
  },
  {
   "cell_type": "markdown",
   "metadata": {},
   "source": [
    "**Name: D.S.Ramakant Raju**\n",
    "\n",
    "Desired Occupation: preferrably some data science-y role in a company that doesn't shut itself down"
   ]
  },
  {
   "cell_type": "markdown",
   "metadata": {},
   "source": [
    "_I used to feel that I was pretty good at Maths. Gradually I started doubted the people I surround myself with. \n",
    "Then I signed up to study Machine learning. Now I'm convinced I suck at this. \n",
    "Therefore that's a challenge I'm going to take up to try and un-suck.\n",
    "While at it, I hope to get richer. Ha!_\n",
    "\n",
    "_Confession time: I hate snakes. Each time I listen to the word python, a brain cell dies of shock_"
   ]
  },
  {
   "cell_type": "markdown",
   "metadata": {},
   "source": [
    "### The code below is supposed to find sum of first `n` numbers in two different ways"
   ]
  },
  {
   "cell_type": "code",
   "execution_count": 8,
   "metadata": {},
   "outputs": [
    {
     "data": {
      "text/plain": [
       "5050.0"
      ]
     },
     "execution_count": 8,
     "metadata": {},
     "output_type": "execute_result"
    }
   ],
   "source": [
    "#this function copied from course instructions because i'm not that smart\n",
    "\n",
    "def gauss(n):\n",
    "    return (n*(n+1))/2\n",
    "gauss(100)\n"
   ]
  },
  {
   "cell_type": "code",
   "execution_count": 10,
   "metadata": {},
   "outputs": [
    {
     "data": {
      "text/plain": [
       "range(0, 101)"
      ]
     },
     "execution_count": 10,
     "metadata": {},
     "output_type": "execute_result"
    }
   ],
   "source": [
    "range(101)"
   ]
  },
  {
   "cell_type": "code",
   "execution_count": 3,
   "metadata": {},
   "outputs": [
    {
     "data": {
      "text/plain": [
       "5050"
      ]
     },
     "execution_count": 3,
     "metadata": {},
     "output_type": "execute_result"
    }
   ],
   "source": [
    "sum(range(101))"
   ]
  },
  {
   "cell_type": "code",
   "execution_count": 4,
   "metadata": {},
   "outputs": [
    {
     "data": {
      "text/plain": [
       "True"
      ]
     },
     "execution_count": 4,
     "metadata": {},
     "output_type": "execute_result"
    }
   ],
   "source": [
    "gauss(100)==sum(range(101))"
   ]
  },
  {
   "cell_type": "markdown",
   "metadata": {},
   "source": [
    "I have surprised myself in the previous cells since it is practically the very first lines of python I have ever written in my life. \n",
    "More text follows this horizontal line\n",
    "\n",
    "***\n",
    "Adventerous friends within my network have attempted to go scuba-diving in the Maldives or snow-boarding in the Alps. Given I am neither physically nor fiscally fit for such escapades, there is another equally daring adventure I attempted this year... I made my own website using Rstudio --> [Click this link](https://www.ds-ramakant.com/)\n",
    "\n",
    "The entire website was written by customsing Hugo template (Wowchemy), pushing onto Github and hosted via Netlify. Groovy nah? \n",
    "\n",
    "![alt text](https://i.vgy.me/RFQVa4.gif \"IMAGE IS NOW EMBEDDED\")\n"
   ]
  }
 ],
 "metadata": {
  "kernelspec": {
   "display_name": "Python 3.9",
   "language": "python",
   "name": "python3"
  },
  "language_info": {
   "codemirror_mode": {
    "name": "ipython",
    "version": 3
   },
   "file_extension": ".py",
   "mimetype": "text/x-python",
   "name": "python",
   "nbconvert_exporter": "python",
   "pygments_lexer": "ipython3",
   "version": "3.9.12"
  }
 },
 "nbformat": 4,
 "nbformat_minor": 1
}
